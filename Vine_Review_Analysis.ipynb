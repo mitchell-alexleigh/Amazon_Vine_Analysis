{
  "nbformat": 4,
  "nbformat_minor": 0,
  "metadata": {
    "colab": {
      "name": "Vine_Review_Analysis.ipynb",
      "provenance": []
    },
    "kernelspec": {
      "name": "python3",
      "display_name": "Python 3"
    },
    "language_info": {
      "name": "python"
    }
  },
  "cells": [
    {
      "cell_type": "code",
      "metadata": {
        "colab": {
          "base_uri": "https://localhost:8080/"
        },
        "id": "tuIDzQ0Vtjhx",
        "outputId": "248b3a30-d503-4efe-88cc-52129f899aef"
      },
      "source": [
        "import os\n",
        "# Find the latest version of spark 2.0  from http://www-us.apache.org/dist/spark/ and enter as the spark version\n",
        "# For example:\n",
        "# spark_version = 'spark-3.0.0'\n",
        "spark_version = 'spark-3.1.1'\n",
        "os.environ['SPARK_VERSION']=spark_version\n",
        "\n",
        "# Install Spark and Java\n",
        "!apt-get update\n",
        "!apt-get install openjdk-11-jdk-headless -qq > /dev/null\n",
        "!wget -q http://www-us.apache.org/dist/spark/$SPARK_VERSION/$SPARK_VERSION-bin-hadoop2.7.tgz\n",
        "!tar xf $SPARK_VERSION-bin-hadoop2.7.tgz\n",
        "!pip install -q findspark\n",
        "\n",
        "# Set Environment Variables\n",
        "import os\n",
        "os.environ[\"JAVA_HOME\"] = \"/usr/lib/jvm/java-11-openjdk-amd64\"\n",
        "os.environ[\"SPARK_HOME\"] = f\"/content/{spark_version}-bin-hadoop2.7\"\n",
        "\n",
        "# Start a SparkSession\n",
        "import findspark\n",
        "findspark.init()"
      ],
      "execution_count": 1,
      "outputs": [
        {
          "output_type": "stream",
          "text": [
            "\r0% [Working]\r            \rGet:1 https://cloud.r-project.org/bin/linux/ubuntu bionic-cran40/ InRelease [3,626 B]\n",
            "\r0% [Connecting to archive.ubuntu.com (91.189.88.142)] [Connecting to security.u\r0% [Connecting to archive.ubuntu.com (91.189.88.142)] [Connecting to security.u\r0% [1 InRelease gpgv 3,626 B] [Waiting for headers] [Waiting for headers] [Conn\r                                                                               \rIgn:2 https://developer.download.nvidia.com/compute/cuda/repos/ubuntu1804/x86_64  InRelease\n",
            "\r0% [1 InRelease gpgv 3,626 B] [Waiting for headers] [Waiting for headers] [Conn\r                                                                               \rHit:3 http://archive.ubuntu.com/ubuntu bionic InRelease\n",
            "\r0% [1 InRelease gpgv 3,626 B] [Waiting for headers] [Waiting for headers] [Conn\r                                                                               \rGet:4 http://security.ubuntu.com/ubuntu bionic-security InRelease [88.7 kB]\n",
            "Ign:5 https://developer.download.nvidia.com/compute/machine-learning/repos/ubuntu1804/x86_64  InRelease\n",
            "Get:6 https://developer.download.nvidia.com/compute/cuda/repos/ubuntu1804/x86_64  Release [697 B]\n",
            "Hit:7 https://developer.download.nvidia.com/compute/machine-learning/repos/ubuntu1804/x86_64  Release\n",
            "Get:8 http://archive.ubuntu.com/ubuntu bionic-updates InRelease [88.7 kB]\n",
            "Get:9 http://ppa.launchpad.net/c2d4u.team/c2d4u4.0+/ubuntu bionic InRelease [15.9 kB]\n",
            "Get:10 https://developer.download.nvidia.com/compute/cuda/repos/ubuntu1804/x86_64  Release.gpg [836 B]\n",
            "Hit:11 http://ppa.launchpad.net/cran/libgit2/ubuntu bionic InRelease\n",
            "Get:12 http://archive.ubuntu.com/ubuntu bionic-backports InRelease [74.6 kB]\n",
            "Get:13 http://ppa.launchpad.net/deadsnakes/ppa/ubuntu bionic InRelease [15.9 kB]\n",
            "Hit:14 http://ppa.launchpad.net/graphics-drivers/ppa/ubuntu bionic InRelease\n",
            "Ign:16 https://developer.download.nvidia.com/compute/cuda/repos/ubuntu1804/x86_64  Packages\n",
            "Get:16 https://developer.download.nvidia.com/compute/cuda/repos/ubuntu1804/x86_64  Packages [696 kB]\n",
            "Get:17 http://ppa.launchpad.net/c2d4u.team/c2d4u4.0+/ubuntu bionic/main Sources [1,755 kB]\n",
            "Get:18 http://security.ubuntu.com/ubuntu bionic-security/multiverse amd64 Packages [24.5 kB]\n",
            "Get:19 http://security.ubuntu.com/ubuntu bionic-security/restricted amd64 Packages [395 kB]\n",
            "Get:20 http://archive.ubuntu.com/ubuntu bionic-updates/main amd64 Packages [2,542 kB]\n",
            "Get:21 http://security.ubuntu.com/ubuntu bionic-security/main amd64 Packages [2,112 kB]\n",
            "Get:22 http://security.ubuntu.com/ubuntu bionic-security/universe amd64 Packages [1,408 kB]\n",
            "Get:23 http://ppa.launchpad.net/c2d4u.team/c2d4u4.0+/ubuntu bionic/main amd64 Packages [898 kB]\n",
            "Get:24 http://archive.ubuntu.com/ubuntu bionic-updates/multiverse amd64 Packages [31.4 kB]\n",
            "Get:25 http://archive.ubuntu.com/ubuntu bionic-updates/restricted amd64 Packages [425 kB]\n",
            "Get:26 http://archive.ubuntu.com/ubuntu bionic-updates/universe amd64 Packages [2,179 kB]\n",
            "Get:27 http://ppa.launchpad.net/deadsnakes/ppa/ubuntu bionic/main amd64 Packages [39.5 kB]\n",
            "Fetched 12.8 MB in 4s (3,560 kB/s)\n",
            "Reading package lists... Done\n"
          ],
          "name": "stdout"
        }
      ]
    },
    {
      "cell_type": "code",
      "metadata": {
        "colab": {
          "base_uri": "https://localhost:8080/"
        },
        "id": "SnTQQHMLuT8P",
        "outputId": "d50f52dc-0eaf-4c8a-99ab-b9e496e375f4"
      },
      "source": [
        "# Download the Postgres driver that will allow Spark to interact with Postgres.\n",
        "!wget https://jdbc.postgresql.org/download/postgresql-42.2.16.jar"
      ],
      "execution_count": 2,
      "outputs": [
        {
          "output_type": "stream",
          "text": [
            "--2021-04-19 01:24:01--  https://jdbc.postgresql.org/download/postgresql-42.2.16.jar\n",
            "Resolving jdbc.postgresql.org (jdbc.postgresql.org)... 72.32.157.228, 2001:4800:3e1:1::228\n",
            "Connecting to jdbc.postgresql.org (jdbc.postgresql.org)|72.32.157.228|:443... connected.\n",
            "HTTP request sent, awaiting response... 200 OK\n",
            "Length: 1002883 (979K) [application/java-archive]\n",
            "Saving to: ‘postgresql-42.2.16.jar’\n",
            "\n",
            "postgresql-42.2.16. 100%[===================>] 979.38K  5.76MB/s    in 0.2s    \n",
            "\n",
            "2021-04-19 01:24:02 (5.76 MB/s) - ‘postgresql-42.2.16.jar’ saved [1002883/1002883]\n",
            "\n"
          ],
          "name": "stdout"
        }
      ]
    },
    {
      "cell_type": "code",
      "metadata": {
        "id": "lG_Nnw0Nui-y"
      },
      "source": [
        "from pyspark.sql import SparkSession\n",
        "spark = SparkSession.builder.appName(\"BigData-Challenge\").config(\"spark.driver.extraClassPath\",\"/content/postgresql-42.2.16.jar\").getOrCreate()"
      ],
      "execution_count": 4,
      "outputs": []
    },
    {
      "cell_type": "code",
      "metadata": {
        "colab": {
          "base_uri": "https://localhost:8080/"
        },
        "id": "-Rnn8K65uzc4",
        "outputId": "15b4f7d5-b863-44bf-b5b1-36eb6199308e"
      },
      "source": [
        "from pyspark import SparkFiles\n",
        "url = \"https://s3.amazonaws.com/amazon-reviews-pds/tsv/amazon_reviews_us_Watches_v1_00.tsv.gz\"\n",
        "spark.sparkContext.addFile(url)\n",
        "df = spark.read.option(\"encoding\", \"UTF-8\").csv(SparkFiles.get(\"amazon_reviews_us_Watches_v1_00.tsv.gz\"), sep=\"\\t\", header=True, inferSchema=True)\n",
        "df.show()"
      ],
      "execution_count": 5,
      "outputs": [
        {
          "output_type": "stream",
          "text": [
            "+-----------+-----------+--------------+----------+--------------+--------------------+----------------+-----------+-------------+-----------+----+-----------------+--------------------+--------------------+-----------+\n",
            "|marketplace|customer_id|     review_id|product_id|product_parent|       product_title|product_category|star_rating|helpful_votes|total_votes|vine|verified_purchase|     review_headline|         review_body|review_date|\n",
            "+-----------+-----------+--------------+----------+--------------+--------------------+----------------+-----------+-------------+-----------+----+-----------------+--------------------+--------------------+-----------+\n",
            "|         US|    3653882|R3O9SGZBVQBV76|B00FALQ1ZC|     937001370|Invicta Women's 1...|         Watches|          5|            0|          0|   N|                Y|          Five Stars|Absolutely love t...| 2015-08-31|\n",
            "|         US|   14661224| RKH8BNC3L5DLF|B00D3RGO20|     484010722|Kenneth Cole New ...|         Watches|          5|            0|          0|   N|                Y|I love thiswatch ...|I love this watch...| 2015-08-31|\n",
            "|         US|   27324930|R2HLE8WKZSU3NL|B00DKYC7TK|     361166390|Ritche 22mm Black...|         Watches|          2|            1|          1|   N|                Y|           Two Stars|           Scratches| 2015-08-31|\n",
            "|         US|    7211452|R31U3UH5AZ42LL|B000EQS1JW|     958035625|Citizen Men's BM8...|         Watches|          5|            0|          0|   N|                Y|          Five Stars|It works well on ...| 2015-08-31|\n",
            "|         US|   12733322|R2SV659OUJ945Y|B00A6GFD7S|     765328221|Orient ER27009B M...|         Watches|          4|            0|          0|   N|                Y|Beautiful face, b...|Beautiful watch f...| 2015-08-31|\n",
            "|         US|    6576411| RA51CP8TR5A2L|B00EYSOSE8|     230493695|Casio Men's GW-94...|         Watches|          5|            0|          0|   N|                Y|       No complaints|i love this watch...| 2015-08-31|\n",
            "|         US|   11811565| RB2Q7DLDN6TH6|B00WM0QA3M|     549298279|Fossil Women's ES...|         Watches|          5|            1|          1|   N|                Y|          Five Stars|for my wife and s...| 2015-08-31|\n",
            "|         US|   49401598|R2RHFJV0UYBK3Y|B00A4EYBR0|     844009113|INFANTRY Mens Nig...|         Watches|          1|            1|          5|   N|                N|I was about to bu...|I was about to bu...| 2015-08-31|\n",
            "|         US|   45925069|R2Z6JOQ94LFHEP|B00MAMPGGE|     263720892|G-Shock Men's Gre...|         Watches|          5|            1|          2|   N|                Y|      Perfect watch!|Watch is perfect....| 2015-08-31|\n",
            "|         US|   44751341| RX27XIIWY5JPB|B004LBPB7Q|     124278407|Heiden Quad Watch...|         Watches|          4|            0|          0|   N|                Y|Great quality and...|Great quality and...| 2015-08-31|\n",
            "|         US|    9962330|R15C7QEZT0LGZN|B00KGTVGKS|      28017857|Fossil Women's ES...|         Watches|          4|            2|          2|   N|                Y|           Satisfied|The watch was pre...| 2015-08-31|\n",
            "|         US|   16097204|R361XSS37V0NCZ|B0039UT5OU|     685450910|Casio General Men...|         Watches|          1|            0|          0|   N|                N|I do not think th...|I bought this wat...| 2015-08-31|\n",
            "|         US|   51330346| ROTNLALUAJAUB|B00MPF0XJQ|     767769082|2Tone Gold Silver...|         Watches|          3|            0|          0|   N|                Y|         Three Stars|It is a cheap wat...| 2015-08-31|\n",
            "|         US|    4201739|R2DYX7QU6BGOHR|B003P1OHHS|     648595227|Bulova Men's 98B1...|         Watches|          5|            0|          0|   N|                Y|          Five Stars|Heavier than i th...| 2015-08-31|\n",
            "|         US|   26339765| RWASY7FKI7QOT|B00R70YEOE|     457338020|Casio - G-Shock -...|         Watches|          5|            2|          3|   N|                Y|  Worth it - love it|Had it for severa...| 2015-08-31|\n",
            "|         US|    2692576|R2KKYZIN3CCL21|B000FVE3BG|     824370661|Invicta Men's 332...|         Watches|          5|            0|          0|   N|                Y|This is when diff...|This one is diffe...| 2015-08-31|\n",
            "|         US|   44713366|R22H4FGVD5O52O|B008X6JB12|     814431355|Seiko Women's SUT...|         Watches|          4|            1|          1|   N|                Y|Thewatch is attra...|The watch is attr...| 2015-08-31|\n",
            "|         US|   32778769|R11UACZERCM4ZY|B0040UOFPW|     187700878|Anne Klein Women'...|         Watches|          5|            0|          0|   N|                Y|          Five Stars|      said my wife..| 2015-08-31|\n",
            "|         US|   27258523|R1AT8NQ38UQOL6|B00UR2R5UY|     594315262|Guess U13630G1 Me...|         Watches|          5|            0|          0|   N|                Y|          Five Stars|Nice watch, on ti...| 2015-08-31|\n",
            "|         US|   42646538|R2NCZRQGIF1Q75|B00HFF57L0|     520810507|Nixon Men's Geo V...|         Watches|          4|            0|          0|   N|                Y|        Very stylish|Looks great and l...| 2015-08-31|\n",
            "+-----------+-----------+--------------+----------+--------------+--------------------+----------------+-----------+-------------+-----------+----+-----------------+--------------------+--------------------+-----------+\n",
            "only showing top 20 rows\n",
            "\n"
          ],
          "name": "stdout"
        }
      ]
    },
    {
      "cell_type": "code",
      "metadata": {
        "colab": {
          "base_uri": "https://localhost:8080/"
        },
        "id": "dLDmMWh7u2PA",
        "outputId": "39320da3-b26f-4bbd-f0bc-28130b8715cc"
      },
      "source": [
        "# Create the vine_table. DataFrame\n",
        "vine_df = df.select([\"review_id\",\"star_rating\",\"helpful_votes\",\"total_votes\",\"vine\",\"verified_purchase\"])\n",
        "vine_df.show()"
      ],
      "execution_count": 6,
      "outputs": [
        {
          "output_type": "stream",
          "text": [
            "+--------------+-----------+-------------+-----------+----+-----------------+\n",
            "|     review_id|star_rating|helpful_votes|total_votes|vine|verified_purchase|\n",
            "+--------------+-----------+-------------+-----------+----+-----------------+\n",
            "|R3O9SGZBVQBV76|          5|            0|          0|   N|                Y|\n",
            "| RKH8BNC3L5DLF|          5|            0|          0|   N|                Y|\n",
            "|R2HLE8WKZSU3NL|          2|            1|          1|   N|                Y|\n",
            "|R31U3UH5AZ42LL|          5|            0|          0|   N|                Y|\n",
            "|R2SV659OUJ945Y|          4|            0|          0|   N|                Y|\n",
            "| RA51CP8TR5A2L|          5|            0|          0|   N|                Y|\n",
            "| RB2Q7DLDN6TH6|          5|            1|          1|   N|                Y|\n",
            "|R2RHFJV0UYBK3Y|          1|            1|          5|   N|                N|\n",
            "|R2Z6JOQ94LFHEP|          5|            1|          2|   N|                Y|\n",
            "| RX27XIIWY5JPB|          4|            0|          0|   N|                Y|\n",
            "|R15C7QEZT0LGZN|          4|            2|          2|   N|                Y|\n",
            "|R361XSS37V0NCZ|          1|            0|          0|   N|                N|\n",
            "| ROTNLALUAJAUB|          3|            0|          0|   N|                Y|\n",
            "|R2DYX7QU6BGOHR|          5|            0|          0|   N|                Y|\n",
            "| RWASY7FKI7QOT|          5|            2|          3|   N|                Y|\n",
            "|R2KKYZIN3CCL21|          5|            0|          0|   N|                Y|\n",
            "|R22H4FGVD5O52O|          4|            1|          1|   N|                Y|\n",
            "|R11UACZERCM4ZY|          5|            0|          0|   N|                Y|\n",
            "|R1AT8NQ38UQOL6|          5|            0|          0|   N|                Y|\n",
            "|R2NCZRQGIF1Q75|          4|            0|          0|   N|                Y|\n",
            "+--------------+-----------+-------------+-----------+----+-----------------+\n",
            "only showing top 20 rows\n",
            "\n"
          ],
          "name": "stdout"
        }
      ]
    },
    {
      "cell_type": "code",
      "metadata": {
        "colab": {
          "base_uri": "https://localhost:8080/"
        },
        "id": "VAEYzmTdwWwX",
        "outputId": "bb9d3b5b-ca6c-46b8-945c-e68026cf0059"
      },
      "source": [
        "high_votes_df = vine_df.filter(vine_df['total_votes'] >= 20)\n",
        "high_votes_df"
      ],
      "execution_count": 9,
      "outputs": [
        {
          "output_type": "execute_result",
          "data": {
            "text/plain": [
              "DataFrame[review_id: string, star_rating: int, helpful_votes: int, total_votes: int, vine: string, verified_purchase: string]"
            ]
          },
          "metadata": {
            "tags": []
          },
          "execution_count": 9
        }
      ]
    },
    {
      "cell_type": "code",
      "metadata": {
        "colab": {
          "base_uri": "https://localhost:8080/"
        },
        "id": "8pqEqEw9xYTM",
        "outputId": "3d70b2d8-b1fc-4b33-8aa2-b57f02f41122"
      },
      "source": [
        "import pyspark.sql.functions as func\n",
        "upper_half = high_votes_df.withColumn('helpful_vote_percent', func.round(((high_votes_df.helpful_votes/high_votes_df.total_votes)*100),0).cast('integer'))\n",
        "upper_half.show()"
      ],
      "execution_count": 31,
      "outputs": [
        {
          "output_type": "stream",
          "text": [
            "+--------------+-----------+-------------+-----------+----+-----------------+--------------------+\n",
            "|     review_id|star_rating|helpful_votes|total_votes|vine|verified_purchase|helpful_vote_percent|\n",
            "+--------------+-----------+-------------+-----------+----+-----------------+--------------------+\n",
            "|R14W2VCHHK5V7W|          5|           19|         20|   N|                Y|                  95|\n",
            "|R1S3T57O3OYT5S|          5|           19|         20|   N|                Y|                  95|\n",
            "|R1BTWIBLYYVOV7|          5|           30|         30|   N|                Y|                 100|\n",
            "| R6F9VY91ADPLA|          1|            8|         30|   N|                N|                  27|\n",
            "|R3PXNV89DFIXKV|          5|           35|         37|   N|                Y|                  95|\n",
            "|R2ZF9NYVT3J7D6|          5|           19|         22|   N|                Y|                  86|\n",
            "|R20NYA5V0UF9NE|          5|           27|         28|   N|                Y|                  96|\n",
            "|R2X8FZRUOS8R8C|          4|           25|         26|   N|                Y|                  96|\n",
            "|R2D8IMBVX3XCLF|          1|           14|         20|   N|                Y|                  70|\n",
            "|R25UD9TA63L3Q8|          5|           25|         27|   N|                Y|                  93|\n",
            "|R2RB1HML8N712P|          5|           26|         28|   N|                Y|                  93|\n",
            "| ROXA8XP5EI2KK|          5|           48|         49|   N|                N|                  98|\n",
            "|R149IHTGGSRGX9|          5|           19|         20|   N|                Y|                  95|\n",
            "|R1B7M0OP3UNP6O|          5|           49|         52|   Y|                N|                  94|\n",
            "|R2N92CUM7WBA1A|          5|           27|         28|   N|                Y|                  96|\n",
            "|R2TAFZNG4KHFQB|          4|           24|         24|   N|                Y|                 100|\n",
            "| RNRFACS48ZE4A|          5|           21|         21|   N|                Y|                 100|\n",
            "|R2PO5QTLXJ9LHG|          5|           33|         46|   N|                N|                  72|\n",
            "|R38KDT041DRMIN|          5|           19|         24|   N|                Y|                  79|\n",
            "|R2MNPDWCA42I4G|          1|           17|         20|   N|                N|                  85|\n",
            "+--------------+-----------+-------------+-----------+----+-----------------+--------------------+\n",
            "only showing top 20 rows\n",
            "\n"
          ],
          "name": "stdout"
        }
      ]
    },
    {
      "cell_type": "code",
      "metadata": {
        "colab": {
          "base_uri": "https://localhost:8080/"
        },
        "id": "tz_ND9SqzlNV",
        "outputId": "25dbf92f-dcf1-4c13-fe12-d29140fb6a25"
      },
      "source": [
        "\n",
        "upper_half_df = upper_half.filter(upper_half['helpful_vote_percent'] >= 50)\n",
        "upper_half_df.show()"
      ],
      "execution_count": 34,
      "outputs": [
        {
          "output_type": "stream",
          "text": [
            "+--------------+-----------+-------------+-----------+----+-----------------+--------------------+\n",
            "|     review_id|star_rating|helpful_votes|total_votes|vine|verified_purchase|helpful_vote_percent|\n",
            "+--------------+-----------+-------------+-----------+----+-----------------+--------------------+\n",
            "|R14W2VCHHK5V7W|          5|           19|         20|   N|                Y|                  95|\n",
            "|R1S3T57O3OYT5S|          5|           19|         20|   N|                Y|                  95|\n",
            "|R1BTWIBLYYVOV7|          5|           30|         30|   N|                Y|                 100|\n",
            "|R3PXNV89DFIXKV|          5|           35|         37|   N|                Y|                  95|\n",
            "|R2ZF9NYVT3J7D6|          5|           19|         22|   N|                Y|                  86|\n",
            "|R20NYA5V0UF9NE|          5|           27|         28|   N|                Y|                  96|\n",
            "|R2X8FZRUOS8R8C|          4|           25|         26|   N|                Y|                  96|\n",
            "|R2D8IMBVX3XCLF|          1|           14|         20|   N|                Y|                  70|\n",
            "|R25UD9TA63L3Q8|          5|           25|         27|   N|                Y|                  93|\n",
            "|R2RB1HML8N712P|          5|           26|         28|   N|                Y|                  93|\n",
            "| ROXA8XP5EI2KK|          5|           48|         49|   N|                N|                  98|\n",
            "|R149IHTGGSRGX9|          5|           19|         20|   N|                Y|                  95|\n",
            "|R1B7M0OP3UNP6O|          5|           49|         52|   Y|                N|                  94|\n",
            "|R2N92CUM7WBA1A|          5|           27|         28|   N|                Y|                  96|\n",
            "|R2TAFZNG4KHFQB|          4|           24|         24|   N|                Y|                 100|\n",
            "| RNRFACS48ZE4A|          5|           21|         21|   N|                Y|                 100|\n",
            "|R2PO5QTLXJ9LHG|          5|           33|         46|   N|                N|                  72|\n",
            "|R38KDT041DRMIN|          5|           19|         24|   N|                Y|                  79|\n",
            "|R2MNPDWCA42I4G|          1|           17|         20|   N|                N|                  85|\n",
            "|R3F3KMKY26K620|          4|           25|         26|   N|                Y|                  96|\n",
            "+--------------+-----------+-------------+-----------+----+-----------------+--------------------+\n",
            "only showing top 20 rows\n",
            "\n"
          ],
          "name": "stdout"
        }
      ]
    },
    {
      "cell_type": "code",
      "metadata": {
        "colab": {
          "base_uri": "https://localhost:8080/"
        },
        "id": "2A3RTkIh14uT",
        "outputId": "fbeb09e1-a8a2-4c3f-805f-9a6253999e99"
      },
      "source": [
        "vine_y_df = upper_half.filter(upper_half['vine'] == 'Y')\n",
        "vine_y_df.show()"
      ],
      "execution_count": 35,
      "outputs": [
        {
          "output_type": "stream",
          "text": [
            "+--------------+-----------+-------------+-----------+----+-----------------+--------------------+\n",
            "|     review_id|star_rating|helpful_votes|total_votes|vine|verified_purchase|helpful_vote_percent|\n",
            "+--------------+-----------+-------------+-----------+----+-----------------+--------------------+\n",
            "|R1B7M0OP3UNP6O|          5|           49|         52|   Y|                N|                  94|\n",
            "|R2UUV4UGGYMQG8|          5|           34|         39|   Y|                N|                  87|\n",
            "| R9K0LZV2BK9YY|          4|           37|         39|   Y|                N|                  95|\n",
            "|R2OVFLNEUEGTJM|          3|           18|         25|   Y|                N|                  72|\n",
            "| RBE09ELJ77LQ0|          5|           44|         45|   Y|                N|                  98|\n",
            "|R3867T8AIJJHM6|          5|           26|         27|   Y|                N|                  96|\n",
            "|R1FNVUXPU63WOZ|          4|           43|         48|   Y|                N|                  90|\n",
            "|R25XGG2G12SE1Z|          4|           20|         23|   Y|                N|                  87|\n",
            "| R3JKU4HRDFZDH|          4|           27|         30|   Y|                N|                  90|\n",
            "|R2PQYOCJXRB1BF|          5|           26|         28|   Y|                N|                  93|\n",
            "|R1JBQ8UBLA8N4X|          4|          349|        370|   Y|                N|                  94|\n",
            "|R2I01ZYMO0GYP1|          4|          107|        121|   Y|                N|                  88|\n",
            "|R297GF8EF7AXPO|          2|           22|         30|   Y|                N|                  73|\n",
            "|R2OFG89WKPLHGU|          5|           54|         60|   Y|                N|                  90|\n",
            "|R13PI8O4697CEV|          4|          135|        144|   Y|                N|                  94|\n",
            "|R223MX62JYWUOY|          4|           20|         21|   Y|                N|                  95|\n",
            "| RTSXZ0HZF623M|          3|           13|         22|   Y|                N|                  59|\n",
            "|R1OB4GCKEYGV9I|          4|           61|         90|   Y|                N|                  68|\n",
            "|R1YBNRRUD5WCG4|          5|           15|         20|   Y|                N|                  75|\n",
            "|R3L4Z6NK2Z4OV5|          2|           24|         33|   Y|                N|                  73|\n",
            "+--------------+-----------+-------------+-----------+----+-----------------+--------------------+\n",
            "only showing top 20 rows\n",
            "\n"
          ],
          "name": "stdout"
        }
      ]
    },
    {
      "cell_type": "code",
      "metadata": {
        "colab": {
          "base_uri": "https://localhost:8080/"
        },
        "id": "rluwwcLn2ZBD",
        "outputId": "f06c741a-c693-410f-e6a8-70844d27e4ad"
      },
      "source": [
        "from pyspark.sql.functions import count\n",
        "\n",
        "total_y_reviews = vine_y_df.select(count('review_id').alias(\"total_y_review_count\"))\n",
        "total_y_reviews.show()"
      ],
      "execution_count": 53,
      "outputs": [
        {
          "output_type": "stream",
          "text": [
            "+--------------------+\n",
            "|total_y_review_count|\n",
            "+--------------------+\n",
            "|                  47|\n",
            "+--------------------+\n",
            "\n"
          ],
          "name": "stdout"
        }
      ]
    },
    {
      "cell_type": "code",
      "metadata": {
        "colab": {
          "base_uri": "https://localhost:8080/"
        },
        "id": "3QaaZU4M2k-5",
        "outputId": "e93054e7-b47d-4a69-a11a-d93c6db9e7f0"
      },
      "source": [
        "five_star_y_reviews = vine_y_df.filter(vine_y_df['star_rating'] == 5).select(count('review_id').alias(\"five_star_y_review_count\"))\n",
        "five_star_y_reviews.show()"
      ],
      "execution_count": 55,
      "outputs": [
        {
          "output_type": "stream",
          "text": [
            "+------------------------+\n",
            "|five_star_y_review_count|\n",
            "+------------------------+\n",
            "|                      15|\n",
            "+------------------------+\n",
            "\n"
          ],
          "name": "stdout"
        }
      ]
    },
    {
      "cell_type": "code",
      "metadata": {
        "colab": {
          "base_uri": "https://localhost:8080/"
        },
        "id": "h997vf752rt3",
        "outputId": "56e58da1-233e-44ea-fb2f-4900e40b935d"
      },
      "source": [
        "percent_y_reviews = round(((15/47)*100),0)\n",
        "percent_y_reviews"
      ],
      "execution_count": 68,
      "outputs": [
        {
          "output_type": "execute_result",
          "data": {
            "text/plain": [
              "32.0"
            ]
          },
          "metadata": {
            "tags": []
          },
          "execution_count": 68
        }
      ]
    },
    {
      "cell_type": "code",
      "metadata": {
        "colab": {
          "base_uri": "https://localhost:8080/"
        },
        "id": "_JtGbjcH16EZ",
        "outputId": "5a143f42-5f19-4754-8b33-c42e9bc3a9c1"
      },
      "source": [
        "vine_n_df = upper_half.filter(upper_half['vine'] == 'N')\n",
        "vine_n_df.show()"
      ],
      "execution_count": 36,
      "outputs": [
        {
          "output_type": "stream",
          "text": [
            "+--------------+-----------+-------------+-----------+----+-----------------+--------------------+\n",
            "|     review_id|star_rating|helpful_votes|total_votes|vine|verified_purchase|helpful_vote_percent|\n",
            "+--------------+-----------+-------------+-----------+----+-----------------+--------------------+\n",
            "|R14W2VCHHK5V7W|          5|           19|         20|   N|                Y|                  95|\n",
            "|R1S3T57O3OYT5S|          5|           19|         20|   N|                Y|                  95|\n",
            "|R1BTWIBLYYVOV7|          5|           30|         30|   N|                Y|                 100|\n",
            "| R6F9VY91ADPLA|          1|            8|         30|   N|                N|                  27|\n",
            "|R3PXNV89DFIXKV|          5|           35|         37|   N|                Y|                  95|\n",
            "|R2ZF9NYVT3J7D6|          5|           19|         22|   N|                Y|                  86|\n",
            "|R20NYA5V0UF9NE|          5|           27|         28|   N|                Y|                  96|\n",
            "|R2X8FZRUOS8R8C|          4|           25|         26|   N|                Y|                  96|\n",
            "|R2D8IMBVX3XCLF|          1|           14|         20|   N|                Y|                  70|\n",
            "|R25UD9TA63L3Q8|          5|           25|         27|   N|                Y|                  93|\n",
            "|R2RB1HML8N712P|          5|           26|         28|   N|                Y|                  93|\n",
            "| ROXA8XP5EI2KK|          5|           48|         49|   N|                N|                  98|\n",
            "|R149IHTGGSRGX9|          5|           19|         20|   N|                Y|                  95|\n",
            "|R2N92CUM7WBA1A|          5|           27|         28|   N|                Y|                  96|\n",
            "|R2TAFZNG4KHFQB|          4|           24|         24|   N|                Y|                 100|\n",
            "| RNRFACS48ZE4A|          5|           21|         21|   N|                Y|                 100|\n",
            "|R2PO5QTLXJ9LHG|          5|           33|         46|   N|                N|                  72|\n",
            "|R38KDT041DRMIN|          5|           19|         24|   N|                Y|                  79|\n",
            "|R2MNPDWCA42I4G|          1|           17|         20|   N|                N|                  85|\n",
            "|R3F3KMKY26K620|          4|           25|         26|   N|                Y|                  96|\n",
            "+--------------+-----------+-------------+-----------+----+-----------------+--------------------+\n",
            "only showing top 20 rows\n",
            "\n"
          ],
          "name": "stdout"
        }
      ]
    },
    {
      "cell_type": "code",
      "metadata": {
        "colab": {
          "base_uri": "https://localhost:8080/"
        },
        "id": "uJ9KRayv86aa",
        "outputId": "7ea96a26-d1e9-43f9-fc2d-6a083220de8e"
      },
      "source": [
        "total_n_reviews = vine_n_df.select(count('review_id').alias(\"total_n_review_count\"))\n",
        "total_n_reviews.show()"
      ],
      "execution_count": 69,
      "outputs": [
        {
          "output_type": "stream",
          "text": [
            "+--------------------+\n",
            "|total_n_review_count|\n",
            "+--------------------+\n",
            "|                9584|\n",
            "+--------------------+\n",
            "\n"
          ],
          "name": "stdout"
        }
      ]
    },
    {
      "cell_type": "code",
      "metadata": {
        "colab": {
          "base_uri": "https://localhost:8080/"
        },
        "id": "vKZoTfsS86gE",
        "outputId": "0f8ef0fa-9bb2-4470-957e-8ff70c26c90d"
      },
      "source": [
        "five_star_n_reviews = vine_n_df.filter(vine_n_df['star_rating'] == 5).select(count('review_id').alias(\"five_star_n_review_count\"))\n",
        "five_star_n_reviews.show()"
      ],
      "execution_count": 71,
      "outputs": [
        {
          "output_type": "stream",
          "text": [
            "+------------------------+\n",
            "|five_star_n_review_count|\n",
            "+------------------------+\n",
            "|                    4516|\n",
            "+------------------------+\n",
            "\n"
          ],
          "name": "stdout"
        }
      ]
    },
    {
      "cell_type": "code",
      "metadata": {
        "colab": {
          "base_uri": "https://localhost:8080/"
        },
        "id": "sncJNzUm9A5d",
        "outputId": "8051e847-4a7a-4798-ff04-408745733e80"
      },
      "source": [
        "percent_y_reviews = round(((4516/9584)*100),0)\n",
        "percent_y_reviews"
      ],
      "execution_count": 72,
      "outputs": [
        {
          "output_type": "execute_result",
          "data": {
            "text/plain": [
              "47.0"
            ]
          },
          "metadata": {
            "tags": []
          },
          "execution_count": 72
        }
      ]
    }
  ]
}